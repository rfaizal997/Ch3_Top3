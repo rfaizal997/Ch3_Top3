{
 "cells": [
  {
   "cell_type": "code",
   "execution_count": 19,
   "id": "a9d6813b",
   "metadata": {},
   "outputs": [],
   "source": [
    "import re\n",
    "import gradio as gr\n",
    "import pandas as pd"
   ]
  },
  {
   "cell_type": "code",
   "execution_count": 23,
   "id": "76fe74dc",
   "metadata": {},
   "outputs": [],
   "source": [
    "def data_processing(file_obj):\n",
    "\n",
    "    # Import file csv ke Pandas\n",
    "    df = pd.read_csv(file_obj.name)\n",
    "\n",
    "    # Ambil teks yang akan diproses dalam format list\n",
    "    texts = df.text.to_list()\n",
    "\n",
    "    # Lakukan cleansing pada teks\n",
    "    cleaned_text = []\n",
    "    for text in texts:\n",
    "        cleaned_text.append(re.sub(r'[^a-zA-Z0-9]', ' ', text))\n",
    "\n",
    "    return cleaned_text"
   ]
  },
  {
   "cell_type": "code",
   "execution_count": 24,
   "id": "d6cdebbe",
   "metadata": {},
   "outputs": [
    {
     "name": "stdout",
     "output_type": "stream",
     "text": [
      "Running on local URL:  http://127.0.0.1:7876\n",
      "\n",
      "To create a public link, set `share=True` in `launch()`.\n"
     ]
    },
    {
     "data": {
      "text/html": [
       "<div><iframe src=\"http://127.0.0.1:7876/\" width=\"100%\" height=\"500\" allow=\"autoplay; camera; microphone; clipboard-read; clipboard-write;\" frameborder=\"0\" allowfullscreen></iframe></div>"
      ],
      "text/plain": [
       "<IPython.core.display.HTML object>"
      ]
     },
     "metadata": {},
     "output_type": "display_data"
    },
    {
     "data": {
      "text/plain": []
     },
     "execution_count": 24,
     "metadata": {},
     "output_type": "execute_result"
    }
   ],
   "source": [
    "gradio_ui = gr.Interface(data_processing, \n",
    "                            title=\"Data Processing and Modeling\",\n",
    "                            description=\"Aplikasi Web Data Processing dan Modeling\",\n",
    "                            inputs=\"file\", \n",
    "                            outputs=\"json\")\n",
    "\n",
    "gradio_ui.launch()"
   ]
  },
  {
   "cell_type": "code",
   "execution_count": 21,
   "id": "cad3b205",
   "metadata": {},
   "outputs": [],
   "source": [
    "def data_processing(text):\n",
    "    return re.sub(r'[^a-zA-Z0-9]', ' ', text)"
   ]
  },
  {
   "cell_type": "code",
   "execution_count": 22,
   "id": "f6a7d780",
   "metadata": {},
   "outputs": [
    {
     "name": "stdout",
     "output_type": "stream",
     "text": [
      "Running on local URL:  http://127.0.0.1:7875\n",
      "\n",
      "To create a public link, set `share=True` in `launch()`.\n"
     ]
    },
    {
     "data": {
      "text/html": [
       "<div><iframe src=\"http://127.0.0.1:7875/\" width=\"100%\" height=\"500\" allow=\"autoplay; camera; microphone; clipboard-read; clipboard-write;\" frameborder=\"0\" allowfullscreen></iframe></div>"
      ],
      "text/plain": [
       "<IPython.core.display.HTML object>"
      ]
     },
     "metadata": {},
     "output_type": "display_data"
    },
    {
     "data": {
      "text/plain": []
     },
     "execution_count": 22,
     "metadata": {},
     "output_type": "execute_result"
    }
   ],
   "source": [
    "gradio_ui = gr.Interface(\n",
    "    fn=data_processing,\n",
    "    title=\"Data Processing and Modeling\",\n",
    "    description=\"Aplikasi Web Data Processing dan Modeling\",\n",
    "    inputs=gr.Textbox(lines=10, label=\"Paste some text here\"),\n",
    "    outputs=[\n",
    "        gr.Textbox(label=\"Result\"),\n",
    "    ],\n",
    ")\n",
    "\n",
    "gradio_ui.launch()"
   ]
  }
 ],
 "metadata": {
  "kernelspec": {
   "display_name": "Python 3 (ipykernel)",
   "language": "python",
   "name": "python3"
  },
  "language_info": {
   "codemirror_mode": {
    "name": "ipython",
    "version": 3
   },
   "file_extension": ".py",
   "mimetype": "text/x-python",
   "name": "python",
   "nbconvert_exporter": "python",
   "pygments_lexer": "ipython3",
   "version": "3.9.18"
  }
 },
 "nbformat": 4,
 "nbformat_minor": 5
}
